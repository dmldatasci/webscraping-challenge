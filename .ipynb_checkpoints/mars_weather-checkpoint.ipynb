{
 "cells": [
  {
   "cell_type": "markdown",
   "id": "abf1f225",
   "metadata": {},
   "source": [
    "# Deliverable 2 – Mars Weather"
   ]
  },
  {
   "cell_type": "markdown",
   "id": "a075ef8c",
   "metadata": {},
   "source": [
    "## Scrape and Analyze Mars Weather Data"
   ]
  },
  {
   "cell_type": "code",
   "execution_count": 43,
   "id": "0cf3ca1b",
   "metadata": {},
   "outputs": [],
   "source": [
    "# load dependencies\n",
    "from splinter import Browser\n",
    "from bs4 import BeautifulSoup as soup\n",
    "import matplotlib.pyplot as plt\n",
    "import pandas as pd"
   ]
  },
  {
   "cell_type": "markdown",
   "id": "e009c23e",
   "metadata": {},
   "source": [
    "### 1. Visit Site\n",
    "\n",
    "Use automated browsing to visit the [Mars Temperature Data Site](https://static.bc-edx.com/data/web/mars_facts/temperature.html). Inspect the page to identify which elements to scrape."
   ]
  },
  {
   "cell_type": "code",
   "execution_count": 44,
   "id": "13580ce9",
   "metadata": {},
   "outputs": [],
   "source": [
    "# initiate browser and store url\n",
    "browser = Browser('chrome')\n",
    "url = 'https://static.bc-edx.com/data/web/mars_facts/temperature.html'\n",
    "\n",
    "# visit site\n",
    "browser.visit(url)"
   ]
  },
  {
   "cell_type": "markdown",
   "id": "d3ca5d96",
   "metadata": {},
   "source": [
    "### 2. Scrape Table\n",
    "\n",
    "Create a BeautifulSoup object and use it to scrape the data in the HTML table.\n",
    "\n",
    "Note that this can also be achieved by using the Pandas `read_html` function. However, we'll use BeautifulSoup here to continue sharpening our web scraping skills."
   ]
  },
  {
   "cell_type": "code",
   "execution_count": 45,
   "id": "3df8ac4f",
   "metadata": {},
   "outputs": [],
   "source": [
    "# store html content\n",
    "html = browser.html\n",
    "\n",
    "# create BeautifulSoup object\n",
    "html_soup = soup(html, 'html.parser')\n",
    "\n",
    "# extract all rows of data\n",
    "table = html_soup.find('table', class_='table')"
   ]
  },
  {
   "cell_type": "code",
   "execution_count": 46,
   "id": "92fcede9",
   "metadata": {},
   "outputs": [],
   "source": [
    "# close browser connection\n",
    "browser.quit()"
   ]
  },
  {
   "cell_type": "markdown",
   "id": "f0798b97",
   "metadata": {},
   "source": [
    "### 3. Store Results\n",
    "\n",
    "Assemble the scraped data into a Pandas DataFrame. The columns should have the same headings as the table on the website:\n",
    "\n",
    "* `id`: the identification number of a single transmission from the Curiosity rover\n",
    "* `terrestrial_date`: the date on Earth\n",
    "* `sol`: the number of elapsed sols (Martian days) since Curiosity landed on Mars\n",
    "* `ls`: the solar longitude\n",
    "* `month`: the Martian month\n",
    "* `min_temp`: the minimum temperature, in Celsius, of a single Martian day (sol)\n",
    "* `pressure`: The atmospheric pressure at Curiosity's location"
   ]
  },
  {
   "cell_type": "code",
   "execution_count": 47,
   "id": "e66e8d39",
   "metadata": {},
   "outputs": [],
   "source": [
    "# create empty header and data_rows lists\n",
    "header = []\n",
    "data_rows = []\n",
    "\n",
    "# loop through the scraped data to create a list of rows\n",
    "for i, row in enumerate(table.find_all('tr')):\n",
    "    if i==0:\n",
    "        header = [entry.text for entry in row.find_all('th')]\n",
    "    else:\n",
    "        data_rows.append([entry.text for entry in row.find_all('td')])"
   ]
  },
  {
   "cell_type": "code",
   "execution_count": 49,
   "id": "721583bd",
   "metadata": {},
   "outputs": [],
   "source": [
    "# create a `pandas` DataFrame by using the list of rows and a list of the column names\n",
    "mars_weather_df = pd.DataFrame(data_rows, columns=header)"
   ]
  },
  {
   "cell_type": "code",
   "execution_count": 50,
   "id": "49319087",
   "metadata": {},
   "outputs": [
    {
     "data": {
      "text/html": [
       "<div>\n",
       "<style scoped>\n",
       "    .dataframe tbody tr th:only-of-type {\n",
       "        vertical-align: middle;\n",
       "    }\n",
       "\n",
       "    .dataframe tbody tr th {\n",
       "        vertical-align: top;\n",
       "    }\n",
       "\n",
       "    .dataframe thead th {\n",
       "        text-align: right;\n",
       "    }\n",
       "</style>\n",
       "<table border=\"1\" class=\"dataframe\">\n",
       "  <thead>\n",
       "    <tr style=\"text-align: right;\">\n",
       "      <th></th>\n",
       "      <th>id</th>\n",
       "      <th>terrestrial_date</th>\n",
       "      <th>sol</th>\n",
       "      <th>ls</th>\n",
       "      <th>month</th>\n",
       "      <th>min_temp</th>\n",
       "      <th>pressure</th>\n",
       "    </tr>\n",
       "  </thead>\n",
       "  <tbody>\n",
       "    <tr>\n",
       "      <th>0</th>\n",
       "      <td>2</td>\n",
       "      <td>2012-08-16</td>\n",
       "      <td>10</td>\n",
       "      <td>155</td>\n",
       "      <td>6</td>\n",
       "      <td>-75.0</td>\n",
       "      <td>739.0</td>\n",
       "    </tr>\n",
       "    <tr>\n",
       "      <th>1</th>\n",
       "      <td>13</td>\n",
       "      <td>2012-08-17</td>\n",
       "      <td>11</td>\n",
       "      <td>156</td>\n",
       "      <td>6</td>\n",
       "      <td>-76.0</td>\n",
       "      <td>740.0</td>\n",
       "    </tr>\n",
       "    <tr>\n",
       "      <th>2</th>\n",
       "      <td>24</td>\n",
       "      <td>2012-08-18</td>\n",
       "      <td>12</td>\n",
       "      <td>156</td>\n",
       "      <td>6</td>\n",
       "      <td>-76.0</td>\n",
       "      <td>741.0</td>\n",
       "    </tr>\n",
       "    <tr>\n",
       "      <th>3</th>\n",
       "      <td>35</td>\n",
       "      <td>2012-08-19</td>\n",
       "      <td>13</td>\n",
       "      <td>157</td>\n",
       "      <td>6</td>\n",
       "      <td>-74.0</td>\n",
       "      <td>732.0</td>\n",
       "    </tr>\n",
       "    <tr>\n",
       "      <th>4</th>\n",
       "      <td>46</td>\n",
       "      <td>2012-08-20</td>\n",
       "      <td>14</td>\n",
       "      <td>157</td>\n",
       "      <td>6</td>\n",
       "      <td>-74.0</td>\n",
       "      <td>740.0</td>\n",
       "    </tr>\n",
       "  </tbody>\n",
       "</table>\n",
       "</div>"
      ],
      "text/plain": [
       "   id terrestrial_date sol   ls month min_temp pressure\n",
       "0   2       2012-08-16  10  155     6    -75.0    739.0\n",
       "1  13       2012-08-17  11  156     6    -76.0    740.0\n",
       "2  24       2012-08-18  12  156     6    -76.0    741.0\n",
       "3  35       2012-08-19  13  157     6    -74.0    732.0\n",
       "4  46       2012-08-20  14  157     6    -74.0    740.0"
      ]
     },
     "execution_count": 50,
     "metadata": {},
     "output_type": "execute_result"
    }
   ],
   "source": [
    "# confirm DataFrame was created successfully\n",
    "mars_weather_df.head()"
   ]
  },
  {
   "cell_type": "markdown",
   "id": "caedc15d",
   "metadata": {},
   "source": [
    "### 4. Prepare Data for Analysis\n",
    "\n",
    "Examine the data types that are currently associated with each column. If necessary, cast (or convert) the data to the appropriate `datetime`, `int`, or `float` data types."
   ]
  },
  {
   "cell_type": "code",
   "execution_count": 51,
   "id": "836b112c",
   "metadata": {},
   "outputs": [
    {
     "data": {
      "text/plain": [
       "id                  object\n",
       "terrestrial_date    object\n",
       "sol                 object\n",
       "ls                  object\n",
       "month               object\n",
       "min_temp            object\n",
       "pressure            object\n",
       "dtype: object"
      ]
     },
     "execution_count": 51,
     "metadata": {},
     "output_type": "execute_result"
    }
   ],
   "source": [
    "# examine data type of each column\n",
    "mars_weather_df.dtypes"
   ]
  },
  {
   "cell_type": "code",
   "execution_count": 53,
   "id": "2ae4036c",
   "metadata": {},
   "outputs": [
    {
     "data": {
      "text/plain": [
       "id                           int64\n",
       "terrestrial_date    datetime64[ns]\n",
       "sol                          int64\n",
       "ls                           int64\n",
       "month                        int64\n",
       "min_temp                   float64\n",
       "pressure                   float64\n",
       "dtype: object"
      ]
     },
     "execution_count": 53,
     "metadata": {},
     "output_type": "execute_result"
    }
   ],
   "source": [
    "# change data types for data analysis\n",
    "mars_weather_df = mars_weather_df.astype({'id':'int',\n",
    "                                          'sol':'int',\n",
    "                                          'ls':'int',\n",
    "                                          'month':'int',\n",
    "                                          'min_temp':'float',\n",
    "                                          'pressure':'float'\n",
    "                                         })\n",
    "\n",
    "mars_weather_df['terrestrial_date'] = pd.to_datetime(mars_weather_df['terrestrial_date'])\n"
   ]
  },
  {
   "cell_type": "code",
   "execution_count": 54,
   "id": "6a5b5200",
   "metadata": {},
   "outputs": [
    {
     "data": {
      "text/plain": [
       "id                           int64\n",
       "terrestrial_date    datetime64[ns]\n",
       "sol                          int64\n",
       "ls                           int64\n",
       "month                        int64\n",
       "min_temp                   float64\n",
       "pressure                   float64\n",
       "dtype: object"
      ]
     },
     "execution_count": 54,
     "metadata": {},
     "output_type": "execute_result"
    }
   ],
   "source": [
    "# confirm type changes were successful by examining data types again\n",
    "mars_weather_df.dtypes"
   ]
  },
  {
   "cell_type": "markdown",
   "id": "b9958528",
   "metadata": {},
   "source": [
    "### 5. Analyze the Data\n",
    "\n",
    "Analyze the dataset with `pandas`:\n",
    "\n",
    "1. How many months exist on Mars?"
   ]
  },
  {
   "cell_type": "code",
   "execution_count": 60,
   "id": "5f790911",
   "metadata": {},
   "outputs": [
    {
     "data": {
      "text/plain": [
       "12"
      ]
     },
     "execution_count": 60,
     "metadata": {},
     "output_type": "execute_result"
    }
   ],
   "source": [
    "# the max month integer should be the number of months on Mars\n",
    "mars_weather_df['month'].max()"
   ]
  },
  {
   "cell_type": "markdown",
   "id": "496fff50",
   "metadata": {},
   "source": [
    "2. How many Martian (and not Earth) days worth of data exist in the scraped dataset?"
   ]
  },
  {
   "cell_type": "code",
   "execution_count": 63,
   "id": "f7b3a3e6",
   "metadata": {},
   "outputs": [
    {
     "data": {
      "text/plain": [
       "1867"
      ]
     },
     "execution_count": 63,
     "metadata": {},
     "output_type": "execute_result"
    }
   ],
   "source": [
    "# count the length of an array of unique `sol` values\n",
    "len(mars_weather_df['sol'].unique())"
   ]
  },
  {
   "cell_type": "markdown",
   "id": "3395a69f",
   "metadata": {},
   "source": [
    "3. What are the coldest and the warmest months on Mars (at the location of Curiosity)? To answer this question:\n",
    "    * Find the average the minimum daily temperature for all of the months.\n",
    "    * Plot the results as a bar chart."
   ]
  },
  {
   "cell_type": "code",
   "execution_count": 70,
   "id": "11187a46",
   "metadata": {},
   "outputs": [
    {
     "data": {
      "text/plain": [
       "month\n",
       "1    -77.160920\n",
       "2    -79.932584\n",
       "3    -83.307292\n",
       "4    -82.747423\n",
       "5    -79.308725\n",
       "6    -75.299320\n",
       "7    -72.281690\n",
       "8    -68.382979\n",
       "9    -69.171642\n",
       "10   -71.982143\n",
       "11   -71.985507\n",
       "12   -74.451807\n",
       "Name: min_temp, dtype: float64"
      ]
     },
     "execution_count": 70,
     "metadata": {},
     "output_type": "execute_result"
    }
   ],
   "source": [
    "# group by month and calculate average `min_temp` within each group\n",
    "mars_weather_df.groupby(['month'])['min_temp'].mean()"
   ]
  },
  {
   "cell_type": "code",
   "execution_count": 55,
   "id": "b738b682",
   "metadata": {},
   "outputs": [],
   "source": [
    "# plot the average temperature by month"
   ]
  },
  {
   "cell_type": "code",
   "execution_count": null,
   "id": "036434f1",
   "metadata": {},
   "outputs": [],
   "source": [
    "# identify the coldest and hottest months in Curiosity's location"
   ]
  },
  {
   "cell_type": "markdown",
   "id": "f08e5725",
   "metadata": {},
   "source": [
    "4. Which months have the lowest and the highest atmospheric pressure on Mars? To answer this question:\n",
    "    * Find the average the daily atmospheric pressure of all the months.\n",
    "    * Plot the results as a bar chart."
   ]
  },
  {
   "cell_type": "code",
   "execution_count": 71,
   "id": "35868b6d",
   "metadata": {},
   "outputs": [
    {
     "data": {
      "text/plain": [
       "month\n",
       "1     862.488506\n",
       "2     889.455056\n",
       "3     877.322917\n",
       "4     806.329897\n",
       "5     748.557047\n",
       "6     745.054422\n",
       "7     795.105634\n",
       "8     873.829787\n",
       "9     913.305970\n",
       "10    887.312500\n",
       "11    857.014493\n",
       "12    842.156627\n",
       "Name: pressure, dtype: float64"
      ]
     },
     "execution_count": 71,
     "metadata": {},
     "output_type": "execute_result"
    }
   ],
   "source": [
    "# group by month and calculate average pressure\n",
    "mars_weather_df.groupby(['month'])['pressure'].mean()"
   ]
  },
  {
   "cell_type": "code",
   "execution_count": null,
   "id": "c4f2593f",
   "metadata": {},
   "outputs": [],
   "source": [
    "# plot the average pressure by month"
   ]
  },
  {
   "cell_type": "markdown",
   "id": "f85d6993",
   "metadata": {},
   "source": [
    "5. About how many terrestrial (Earth) days exist in a Martian year? To answer this question:\n",
    "    * Consider how many days elapse on Earth in the time that Mars circles the Sun once.\n",
    "    * Visually estimate the result by plotting the daily minimum temperature."
   ]
  },
  {
   "cell_type": "code",
   "execution_count": null,
   "id": "5c3809f4",
   "metadata": {},
   "outputs": [],
   "source": [
    "# 5. how many terrestrial (earth) days are there in a Martian year?"
   ]
  },
  {
   "cell_type": "markdown",
   "id": "66dab7bc",
   "metadata": {},
   "source": [
    "### 6. Save the Data\n",
    "\n",
    "Export the DataFrame to a CSV file."
   ]
  },
  {
   "cell_type": "code",
   "execution_count": null,
   "id": "e8ca29be",
   "metadata": {},
   "outputs": [],
   "source": [
    "# write data to csv"
   ]
  }
 ],
 "metadata": {
  "kernelspec": {
   "display_name": "Python 3 (ipykernel)",
   "language": "python",
   "name": "python3"
  },
  "language_info": {
   "codemirror_mode": {
    "name": "ipython",
    "version": 3
   },
   "file_extension": ".py",
   "mimetype": "text/x-python",
   "name": "python",
   "nbconvert_exporter": "python",
   "pygments_lexer": "ipython3",
   "version": "3.9.12"
  }
 },
 "nbformat": 4,
 "nbformat_minor": 5
}
