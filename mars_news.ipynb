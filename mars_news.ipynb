{
 "cells": [
  {
   "cell_type": "markdown",
   "id": "2bed5fe9",
   "metadata": {},
   "source": [
    "# Deliverable 1"
   ]
  },
  {
   "cell_type": "markdown",
   "id": "62655f2c",
   "metadata": {},
   "source": [
    "## Scrape Titles and Preview Text from Mars News"
   ]
  },
  {
   "cell_type": "code",
   "execution_count": 23,
   "id": "a536a426",
   "metadata": {},
   "outputs": [],
   "source": [
    "# load dependencies\n",
    "from splinter import Browser\n",
    "from bs4 import BeautifulSoup as soup"
   ]
  },
  {
   "cell_type": "markdown",
   "id": "64ef51f2",
   "metadata": {},
   "source": [
    "### 1. Visit Site\n",
    "\n",
    "Use automated browsing to visit the Mars news site (https://static.bc-edx.com/data/web/mars_news/index.html). Inspect the page to identify which elements to scrape."
   ]
  },
  {
   "cell_type": "code",
   "execution_count": 25,
   "id": "46a99127",
   "metadata": {},
   "outputs": [],
   "source": [
    "# initiate browser and store url\n",
    "browser = Browser('chrome')\n",
    "url = 'https://static.bc-edx.com/data/web/mars_news/index.html'\n",
    "\n",
    "# visit site\n",
    "browser.visit(url)"
   ]
  },
  {
   "cell_type": "markdown",
   "id": "1c5b5872",
   "metadata": {},
   "source": [
    "### 2. Scrape Site\n",
    "\n",
    "Create a Beautiful Soup object and use it to extract text elements from the website."
   ]
  },
  {
   "cell_type": "code",
   "execution_count": 26,
   "id": "79582c00",
   "metadata": {},
   "outputs": [],
   "source": [
    "# store html content\n",
    "html = browser.html\n",
    "\n",
    "# create soup\n",
    "soup = BeautifulSoup(html, 'html.parser')\n",
    "\n",
    "# locate and extract the relevant html elements\n",
    "art_list = soup.find_all(class_='list_text')"
   ]
  },
  {
   "cell_type": "markdown",
   "id": "054dc6ec",
   "metadata": {},
   "source": [
    "### 3. Store Results\n",
    "\n",
    "Extract the titles and preview text of the scraped news articles. Store the scraping results in Python data structures as follows:\n",
    "\n",
    "* Store each title-and-preview pair in a Python dictionary. And, give each dictionary two keys: `title` and `preview`.\n",
    "\n",
    "* Store all the dictionaries in a Python list."
   ]
  },
  {
   "cell_type": "code",
   "execution_count": 27,
   "id": "5ebe2761",
   "metadata": {},
   "outputs": [],
   "source": [
    "# create list of dictionaries\n",
    "# each with `title` and `preview`\n",
    "articles = [{'title':art.find(class_='content_title').text,\n",
    "             'preview':art.find(class_='article_teaser_body').text\n",
    "            } for art in art_list]"
   ]
  },
  {
   "cell_type": "markdown",
   "id": "c8363376",
   "metadata": {},
   "source": [
    "* Print the list to the notebook to verify success."
   ]
  },
  {
   "cell_type": "code",
   "execution_count": 29,
   "id": "762dd8d1",
   "metadata": {},
   "outputs": [
    {
     "data": {
      "text/plain": [
       "[{'title': \"NASA's MAVEN Observes Martian Light Show Caused by Major Solar Storm\",\n",
       "  'preview': 'For the first time in its eight years orbiting Mars, NASA’s MAVEN mission witnessed two different types of ultraviolet aurorae simultaneously, the result of solar storms that began on Aug. 27.'},\n",
       " {'title': \"NASA Prepares to Say 'Farewell' to InSight Spacecraft\",\n",
       "  'preview': 'A closer look at what goes into wrapping up the mission as the spacecraft’s power supply continues to dwindle.'},\n",
       " {'title': 'NASA and ESA Agree on Next Steps to Return Mars Samples to Earth',\n",
       "  'preview': 'The agency’s Perseverance rover will establish the first sample depot on Mars.'},\n",
       " {'title': \"NASA's InSight Lander Detects Stunning Meteoroid Impact on Mars\",\n",
       "  'preview': 'The agency’s lander felt the ground shake during the impact while cameras aboard the Mars Reconnaissance Orbiter spotted the yawning new crater from space.'},\n",
       " {'title': 'NASA To Host Briefing on InSight, Mars Reconnaissance Orbiter Findings',\n",
       "  'preview': 'Scientists from two Mars missions will discuss how they combined images and data for a major finding on the Red Planet.'},\n",
       " {'title': 'Why NASA Is Trying To Crash Land on Mars',\n",
       "  'preview': 'Like a car’s crumple zone, the experimental SHIELD lander is designed to absorb a hard impact.'},\n",
       " {'title': 'Curiosity Mars Rover Reaches Long-Awaited Salty Region',\n",
       "  'preview': 'After years of climbing, the Mars rover has arrived at a special region believed to have formed as Mars’ climate was drying.'},\n",
       " {'title': 'Mars Mission Shields Up for Tests',\n",
       "  'preview': 'Protecting Mars Sample Return spacecraft from micrometeorites requires high-caliber work.'},\n",
       " {'title': \"NASA's InSight Waits Out Dust Storm\",\n",
       "  'preview': 'InSight’s team is taking steps to help the solar-powered lander continue operating for as long as possible.'},\n",
       " {'title': \"NASA's InSight 'Hears' Its First Meteoroid Impacts on Mars\",\n",
       "  'preview': 'The Mars lander’s seismometer has picked up vibrations from four separate impacts in the past two years.'},\n",
       " {'title': \"NASA's Perseverance Rover Investigates Geologically Rich Mars Terrain\",\n",
       "  'preview': 'The latest findings provide greater detail on a region of the Red Planet that has a watery past and is yielding promising samples for the NASA-ESA Mars Sample Return campaign.'},\n",
       " {'title': 'NASA to Host Briefing on Perseverance Mars Rover Mission Operations',\n",
       "  'preview': 'Members of the mission will discuss the rover’s activities as it gathers samples in an ancient river delta.'},\n",
       " {'title': \"NASA's Perseverance Makes New Discoveries in Mars' Jezero Crater\",\n",
       "  'preview': 'The rover found that Jezero Crater’s floor is made up of volcanic rocks that have interacted with water.'},\n",
       " {'title': \"10 Years Since Landing, NASA's Curiosity Mars Rover Still Has Drive\",\n",
       "  'preview': 'Despite signs of wear, the intrepid spacecraft is about to start an exciting new chapter of its mission as it climbs a Martian mountain.'},\n",
       " {'title': \"SAM's Top 5 Discoveries Aboard NASA's Curiosity Rover at Mars\",\n",
       "  'preview': '“Selfie” of the Curiosity rover with inset showing the SAM instrument prior to installation on the rover.'}]"
      ]
     },
     "execution_count": 29,
     "metadata": {},
     "output_type": "execute_result"
    }
   ],
   "source": [
    "# visualize to confirm\n",
    "articles"
   ]
  },
  {
   "cell_type": "code",
   "execution_count": 30,
   "id": "9148b73e",
   "metadata": {},
   "outputs": [],
   "source": [
    "# close browser connection\n",
    "browser.quit()"
   ]
  },
  {
   "cell_type": "markdown",
   "id": "6d3f3b05",
   "metadata": {},
   "source": [
    "### 4. Export to JSON\n",
    "\n",
    "Store the scraped data in a file (to ease sharing the data with others). To do so, export the scraped data to a JSON file."
   ]
  },
  {
   "cell_type": "code",
   "execution_count": 35,
   "id": "72b577a7",
   "metadata": {},
   "outputs": [],
   "source": [
    "# import library for converting to JSON\n",
    "import json\n",
    "\n",
    "# write content to `.json` file\n",
    "with open(\"output/mars_articles.json\", \"w\") as outfile:\n",
    "    json.dump(articles, outfile, indent=2)"
   ]
  }
 ],
 "metadata": {
  "kernelspec": {
   "display_name": "Python 3 (ipykernel)",
   "language": "python",
   "name": "python3"
  },
  "language_info": {
   "codemirror_mode": {
    "name": "ipython",
    "version": 3
   },
   "file_extension": ".py",
   "mimetype": "text/x-python",
   "name": "python",
   "nbconvert_exporter": "python",
   "pygments_lexer": "ipython3",
   "version": "3.9.12"
  }
 },
 "nbformat": 4,
 "nbformat_minor": 5
}
